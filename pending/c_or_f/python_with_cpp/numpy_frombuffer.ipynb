{
 "cells": [
  {
   "cell_type": "code",
   "execution_count": 1,
   "id": "254f5158-b6fe-4303-8c19-2b108bdb9bdc",
   "metadata": {
    "execution": {
     "iopub.execute_input": "2021-08-27T07:16:25.888830Z",
     "iopub.status.busy": "2021-08-27T07:16:25.888649Z",
     "iopub.status.idle": "2021-08-27T07:16:25.891255Z",
     "shell.execute_reply": "2021-08-27T07:16:25.890848Z",
     "shell.execute_reply.started": "2021-08-27T07:16:25.888778Z"
    }
   },
   "outputs": [],
   "source": [
    "# NumPy的ndarray数组对象不能像list一样动态地改变其大小，\n",
    "# 在做数据采集时很不方便。本文介绍如何通过np.frombuffer()实现动态数组。\n",
    "# \n",
    "# \n",
    "# frombuffer将data以流的形式读入转化成ndarray对象\n",
    "# numpy.frombuffer(buffer, dtype=float, count=-1, offset=0)\n",
    "#------------------------------------------------------------\n",
    "# buffer:缓冲区，它表示暴露缓冲区接口的对象。\n",
    "# dtype：代表返回的数据类型数组的数据类型。默认值为0。\n",
    "# count：代表返回的ndarray的长度。默认值为-1。\n",
    "# offset：偏移量，代表读取的起始位置。默认值为0。"
   ]
  },
  {
   "cell_type": "code",
   "execution_count": 3,
   "id": "8e2e3144-dc90-4854-b827-8064b24d97e8",
   "metadata": {
    "execution": {
     "iopub.execute_input": "2021-08-27T07:20:24.766313Z",
     "iopub.status.busy": "2021-08-27T07:20:24.766097Z",
     "iopub.status.idle": "2021-08-27T07:20:30.378451Z",
     "shell.execute_reply": "2021-08-27T07:20:30.377918Z",
     "shell.execute_reply.started": "2021-08-27T07:20:24.766290Z"
    },
    "tags": []
   },
   "outputs": [
    {
     "name": "stdout",
     "output_type": "stream",
     "text": [
      "[b'hel' b'lo ' b'wor' b'ld!']\n"
     ]
    }
   ],
   "source": [
    "#data是字符串的时候，Python3默认str是Unicode类型，所以要转成bytestring在原str前加上b\n",
    "import numpy as np\n",
    "\n",
    "data =b'hello world!' \n",
    "res = np.frombuffer(data,dtype='S3',offset=0)\n",
    "print(res)"
   ]
  },
  {
   "cell_type": "code",
   "execution_count": 5,
   "id": "4b9712eb-5a92-4433-a4c0-9c6f94e9d96c",
   "metadata": {
    "execution": {
     "iopub.execute_input": "2021-08-27T07:25:12.767669Z",
     "iopub.status.busy": "2021-08-27T07:25:12.767439Z",
     "iopub.status.idle": "2021-08-27T07:25:12.772286Z",
     "shell.execute_reply": "2021-08-27T07:25:12.771803Z",
     "shell.execute_reply.started": "2021-08-27T07:25:12.767644Z"
    },
    "tags": []
   },
   "outputs": [
    {
     "name": "stdout",
     "output_type": "stream",
     "text": [
      "array('d', [1.0, 2.0, 3.0, 4.0])\n",
      "[1. 2. 3. 4.]\n",
      "修改NumPy数组中的第一个元素\n",
      "array('d', [1.0, -1.0, 3.0, 4.0])\n",
      "[ 1. -1.  3.  4.]\n"
     ]
    },
    {
     "name": "stderr",
     "output_type": "stream",
     "text": [
      "/home/yzgu/.conda/envs/py37/lib/python3.7/site-packages/ipykernel_launcher.py:6: DeprecationWarning: `np.float` is a deprecated alias for the builtin `float`. To silence this warning, use `float` by itself. Doing this will not modify any behavior and is safe. If you specifically wanted the numpy scalar type, use `np.float64` here.\n",
      "Deprecated in NumPy 1.20; for more details and guidance: https://numpy.org/devdocs/release/1.20.0-notes.html#deprecations\n",
      "  \n"
     ]
    }
   ],
   "source": [
    "# frombuffer()创建一个与目标共享内存的NumPy数组\n",
    "import numpy as np\n",
    "from array import array\n",
    "array_a  = array(\"d\", [1,2,3,4])   # 创建一个array数组\n",
    "# 通过np.frombuffer()创建一个和a共享内存的NumPy数组\n",
    "numpy_a = np.frombuffer(array_a, dtype=np.float) \n",
    "print( array_a )\n",
    "print( numpy_a )\n",
    "print(\"修改NumPy数组中的第一个元素\")\n",
    "numpy_a[1] = -1  # 修改NumPy数组中的第一个元素\n",
    "print( array_a )\n",
    "print( numpy_a )"
   ]
  },
  {
   "cell_type": "code",
   "execution_count": 1,
   "id": "02d7e986-40e5-4ca6-ba06-392db4288d9a",
   "metadata": {
    "execution": {
     "iopub.execute_input": "2021-08-27T07:35:23.869390Z",
     "iopub.status.busy": "2021-08-27T07:35:23.869202Z",
     "iopub.status.idle": "2021-08-27T07:35:24.399168Z",
     "shell.execute_reply": "2021-08-27T07:35:24.398558Z",
     "shell.execute_reply.started": "2021-08-27T07:35:23.869332Z"
    }
   },
   "outputs": [
    {
     "ename": "ModuleNotFoundError",
     "evalue": "No module named 'my_module'",
     "output_type": "error",
     "traceback": [
      "\u001b[0;31m---------------------------------------------------------------------------\u001b[0m",
      "\u001b[0;31mModuleNotFoundError\u001b[0m                       Traceback (most recent call last)",
      "\u001b[0;32m<ipython-input-1-91cde783c299>\u001b[0m in \u001b[0;36m<module>\u001b[0;34m\u001b[0m\n\u001b[1;32m      1\u001b[0m \u001b[0;32mimport\u001b[0m \u001b[0mnumpy\u001b[0m \u001b[0;32mas\u001b[0m \u001b[0mnp\u001b[0m\u001b[0;34m\u001b[0m\u001b[0;34m\u001b[0m\u001b[0m\n\u001b[1;32m      2\u001b[0m \u001b[0;32mimport\u001b[0m \u001b[0mcffi\u001b[0m\u001b[0;34m\u001b[0m\u001b[0;34m\u001b[0m\u001b[0m\n\u001b[0;32m----> 3\u001b[0;31m \u001b[0;32mimport\u001b[0m \u001b[0mmy_module\u001b[0m\u001b[0;34m\u001b[0m\u001b[0;34m\u001b[0m\u001b[0m\n\u001b[0m\u001b[1;32m      4\u001b[0m \u001b[0mffi\u001b[0m  \u001b[0;34m=\u001b[0m \u001b[0mcffi\u001b[0m\u001b[0;34m.\u001b[0m\u001b[0mFFI\u001b[0m\u001b[0;34m(\u001b[0m\u001b[0;34m)\u001b[0m \u001b[0;31m# 声明了外部函数接口(FFI)对象\u001b[0m\u001b[0;34m\u001b[0m\u001b[0;34m\u001b[0m\u001b[0m\n\u001b[1;32m      5\u001b[0m \u001b[0;34m\u001b[0m\u001b[0m\n",
      "\u001b[0;31mModuleNotFoundError\u001b[0m: No module named 'my_module'"
     ]
    }
   ],
   "source": [
    "import numpy as np\n",
    "import cffi\n",
    "import my_module\n",
    "ffi  = cffi.FFI() # 声明了外部函数接口(FFI)对象\n",
    "\n",
    "if __name__ == '__main__':\n",
    "    arr = np.array([1,2,3], dtype = np.float64)\n",
    "    arr = np.array([1,2,3], dtype = np.int32)\n",
    "    arr = np.array([1.123,2.123,3.124], dtype = np.float32)\n",
    "    arr = np.array([1,2,3], dtype = np.int64)\n",
    "    arr = np.array(1, dtype = np.int64)\n",
    "    print(arr.size)\n",
    "    arr_ctype = my_module.cast2ctype(ffi, arr)\n",
    "    arr_dtype = my_module.asarray(ffi, arr_ctype, arr.size )\n",
    "    print(arr_dtype)"
   ]
  },
  {
   "cell_type": "code",
   "execution_count": null,
   "id": "b7d4b2b9-7aa7-4b19-ab5e-a1a7ec6556db",
   "metadata": {},
   "outputs": [],
   "source": []
  }
 ],
 "metadata": {
  "kernelspec": {
   "display_name": "py37-env",
   "language": "python",
   "name": "py37"
  },
  "language_info": {
   "codemirror_mode": {
    "name": "ipython",
    "version": 3
   },
   "file_extension": ".py",
   "mimetype": "text/x-python",
   "name": "python",
   "nbconvert_exporter": "python",
   "pygments_lexer": "ipython3",
   "version": "3.7.9"
  }
 },
 "nbformat": 4,
 "nbformat_minor": 5
}
